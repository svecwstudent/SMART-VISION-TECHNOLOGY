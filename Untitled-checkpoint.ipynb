{
 "cells": [
  {
   "cell_type": "code",
   "execution_count": 35,
   "id": "193cf623-f63f-4050-9f80-a75f6ba9c545",
   "metadata": {},
   "outputs": [],
   "source": [
    "import os\n",
    "import cv2\n",
    "import numpy as np\n",
    "import tensorflow as tf\n",
    "from tensorflow.keras.applications.resnet50 import ResNet50, preprocess_input\n",
    "from tensorflow.keras.models import Model\n",
    "from tensorflow.keras.layers import Dense, GlobalAveragePooling2D\n",
    "from tensorflow.keras.preprocessing.image import ImageDataGenerator\n",
    "from sklearn.model_selection import train_test_split\n",
    "from sklearn.cluster import KMeans\n",
    "\n",
    "# Constants\n",
    "IMAGE_SIZE = (224, 224)\n",
    "BATCH_SIZE = 32\n",
    "EPOCHS = 10\n",
    "\n",
    "# Directories\n",
    "DATASET_DIR =  r'C:\\Users\\DELL\\Documents\\smart_vision_project\\IR_basedcount\\dataset'  \n",
    "\n",
    "# Helper function to load images and labels\n",
    "def load_dataset(dataset_dir):\n",
    "    images = []\n",
    "    labels = []\n",
    "    for filename in os.listdir(dataset_dir):\n",
    "        if filename.endswith('.jpg'):\n",
    "            brand, count, _ = filename.split('_')\n",
    "            image = cv2.imread(os.path.join(dataset_dir, filename))\n",
    "            image = cv2.resize(image, IMAGE_SIZE)\n",
    "            images.append(image)\n",
    "            labels.append((brand, int(count)))\n",
    "    return np.array(images), labels\n",
    "\n",
    "# Load dataset\n",
    "images, labels = load_dataset(DATASET_DIR)\n"
   ]
  },
  {
   "cell_type": "code",
   "execution_count": 37,
   "id": "847ee0f8-48f0-4663-b6db-ce286f3414c1",
   "metadata": {},
   "outputs": [],
   "source": [
    "# Preprocess images\n",
    "images = preprocess_input(images)\n",
    "\n",
    "# Split labels into brand and count\n",
    "brands = [label[0] for label in labels]\n",
    "counts = np.array([label[1] for label in labels])\n",
    "\n",
    "# Encode brands\n",
    "from sklearn.preprocessing import LabelEncoder\n",
    "brand_encoder = LabelEncoder()\n",
    "brands_encoded = brand_encoder.fit_transform(brands)\n",
    "\n",
    "# Train-test split\n",
    "X_train, X_test, y_train_brands, y_test_brands, y_train_counts, y_test_counts = train_test_split(\n",
    "    images, brands_encoded, counts, test_size=0.2, random_state=42\n",
    ")\n"
   ]
  },
  {
   "cell_type": "code",
   "execution_count": 39,
   "id": "141e177b-a60f-499f-9bc3-ea05fd6e4ae3",
   "metadata": {},
   "outputs": [
    {
     "name": "stdout",
     "output_type": "stream",
     "text": [
      "Epoch 1/10\n",
      "\u001b[1m1/1\u001b[0m \u001b[32m━━━━━━━━━━━━━━━━━━━━\u001b[0m\u001b[37m\u001b[0m \u001b[1m13s\u001b[0m 13s/step - accuracy: 0.0400 - loss: 2.5630 - val_accuracy: 0.2857 - val_loss: 3.8577\n",
      "Epoch 2/10\n",
      "\u001b[1m1/1\u001b[0m \u001b[32m━━━━━━━━━━━━━━━━━━━━\u001b[0m\u001b[37m\u001b[0m \u001b[1m3s\u001b[0m 3s/step - accuracy: 0.5600 - loss: 2.3927 - val_accuracy: 0.7143 - val_loss: 2.2133\n",
      "Epoch 3/10\n",
      "\u001b[1m1/1\u001b[0m \u001b[32m━━━━━━━━━━━━━━━━━━━━\u001b[0m\u001b[37m\u001b[0m \u001b[1m3s\u001b[0m 3s/step - accuracy: 0.4400 - loss: 2.7973 - val_accuracy: 0.7143 - val_loss: 1.6220\n",
      "Epoch 4/10\n",
      "\u001b[1m1/1\u001b[0m \u001b[32m━━━━━━━━━━━━━━━━━━━━\u001b[0m\u001b[37m\u001b[0m \u001b[1m3s\u001b[0m 3s/step - accuracy: 0.5200 - loss: 2.2171 - val_accuracy: 0.8571 - val_loss: 0.1720\n",
      "Epoch 5/10\n",
      "\u001b[1m1/1\u001b[0m \u001b[32m━━━━━━━━━━━━━━━━━━━━\u001b[0m\u001b[37m\u001b[0m \u001b[1m3s\u001b[0m 3s/step - accuracy: 0.9600 - loss: 1.0533 - val_accuracy: 0.8571 - val_loss: 0.2168\n",
      "Epoch 6/10\n",
      "\u001b[1m1/1\u001b[0m \u001b[32m━━━━━━━━━━━━━━━━━━━━\u001b[0m\u001b[37m\u001b[0m \u001b[1m3s\u001b[0m 3s/step - accuracy: 0.8800 - loss: 1.1216 - val_accuracy: 0.7143 - val_loss: 0.6559\n",
      "Epoch 7/10\n",
      "\u001b[1m1/1\u001b[0m \u001b[32m━━━━━━━━━━━━━━━━━━━━\u001b[0m\u001b[37m\u001b[0m \u001b[1m3s\u001b[0m 3s/step - accuracy: 0.8400 - loss: 1.2414 - val_accuracy: 0.5714 - val_loss: 0.7571\n",
      "Epoch 8/10\n",
      "\u001b[1m1/1\u001b[0m \u001b[32m━━━━━━━━━━━━━━━━━━━━\u001b[0m\u001b[37m\u001b[0m \u001b[1m3s\u001b[0m 3s/step - accuracy: 0.8800 - loss: 1.1338 - val_accuracy: 0.7143 - val_loss: 0.4930\n",
      "Epoch 9/10\n",
      "\u001b[1m1/1\u001b[0m \u001b[32m━━━━━━━━━━━━━━━━━━━━\u001b[0m\u001b[37m\u001b[0m \u001b[1m3s\u001b[0m 3s/step - accuracy: 0.9200 - loss: 0.9059 - val_accuracy: 1.0000 - val_loss: 0.1735\n",
      "Epoch 10/10\n",
      "\u001b[1m1/1\u001b[0m \u001b[32m━━━━━━━━━━━━━━━━━━━━\u001b[0m\u001b[37m\u001b[0m \u001b[1m3s\u001b[0m 3s/step - accuracy: 0.9600 - loss: 0.6960 - val_accuracy: 1.0000 - val_loss: 0.0413\n"
     ]
    },
    {
     "data": {
      "text/plain": [
       "<keras.src.callbacks.history.History at 0x290657f6b70>"
      ]
     },
     "execution_count": 39,
     "metadata": {},
     "output_type": "execute_result"
    }
   ],
   "source": [
    "# Base model for feature extraction\n",
    "base_model = ResNet50(weights='imagenet', include_top=False, input_shape=(224, 224, 3))\n",
    "x = base_model.output\n",
    "x = GlobalAveragePooling2D()(x)\n",
    "x = Dense(1024, activation='relu')(x)\n",
    "\n",
    "# Brand recognition head\n",
    "brand_predictions = Dense(len(brand_encoder.classes_), activation='softmax')(x)\n",
    "\n",
    "# Create the brand recognition model\n",
    "brand_model = Model(inputs=base_model.input, outputs=brand_predictions)\n",
    "for layer in base_model.layers:\n",
    "    layer.trainable = False\n",
    "\n",
    "# Compile model\n",
    "brand_model.compile(optimizer='adam', loss='sparse_categorical_crossentropy', metrics=['accuracy'])\n",
    "\n",
    "# Train model\n",
    "brand_model.fit(X_train, y_train_brands, epochs=EPOCHS, batch_size=BATCH_SIZE, validation_split=0.2)\n"
   ]
  },
  {
   "cell_type": "code",
   "execution_count": 41,
   "id": "bebb86d4-fe2b-4992-975b-1d82feddce67",
   "metadata": {},
   "outputs": [
    {
     "name": "stdout",
     "output_type": "stream",
     "text": [
      "Epoch 1/10\n",
      "\u001b[1m1/1\u001b[0m \u001b[32m━━━━━━━━━━━━━━━━━━━━\u001b[0m\u001b[37m\u001b[0m \u001b[1m13s\u001b[0m 13s/step - loss: 10.9123 - mae: 3.0315 - val_loss: 114.8291 - val_mae: 10.4594\n",
      "Epoch 2/10\n",
      "\u001b[1m1/1\u001b[0m \u001b[32m━━━━━━━━━━━━━━━━━━━━\u001b[0m\u001b[37m\u001b[0m \u001b[1m3s\u001b[0m 3s/step - loss: 101.6542 - mae: 9.8010 - val_loss: 16.2371 - val_mae: 3.7830\n",
      "Epoch 3/10\n",
      "\u001b[1m1/1\u001b[0m \u001b[32m━━━━━━━━━━━━━━━━━━━━\u001b[0m\u001b[37m\u001b[0m \u001b[1m3s\u001b[0m 3s/step - loss: 13.8862 - mae: 3.4634 - val_loss: 10.4252 - val_mae: 3.1515\n",
      "Epoch 4/10\n",
      "\u001b[1m1/1\u001b[0m \u001b[32m━━━━━━━━━━━━━━━━━━━━\u001b[0m\u001b[37m\u001b[0m \u001b[1m3s\u001b[0m 3s/step - loss: 10.5394 - mae: 3.0914 - val_loss: 40.0076 - val_mae: 6.2772\n",
      "Epoch 5/10\n",
      "\u001b[1m1/1\u001b[0m \u001b[32m━━━━━━━━━━━━━━━━━━━━\u001b[0m\u001b[37m\u001b[0m \u001b[1m3s\u001b[0m 3s/step - loss: 38.5734 - mae: 6.1013 - val_loss: 32.0403 - val_mae: 5.6090\n",
      "Epoch 6/10\n",
      "\u001b[1m1/1\u001b[0m \u001b[32m━━━━━━━━━━━━━━━━━━━━\u001b[0m\u001b[37m\u001b[0m \u001b[1m3s\u001b[0m 3s/step - loss: 31.8900 - mae: 5.5553 - val_loss: 10.2714 - val_mae: 3.1400\n",
      "Epoch 7/10\n",
      "\u001b[1m1/1\u001b[0m \u001b[32m━━━━━━━━━━━━━━━━━━━━\u001b[0m\u001b[37m\u001b[0m \u001b[1m3s\u001b[0m 3s/step - loss: 11.4199 - mae: 3.3074 - val_loss: 0.4485 - val_mae: 0.5508\n",
      "Epoch 8/10\n",
      "\u001b[1m1/1\u001b[0m \u001b[32m━━━━━━━━━━━━━━━━━━━━\u001b[0m\u001b[37m\u001b[0m \u001b[1m3s\u001b[0m 3s/step - loss: 0.5733 - mae: 0.5833 - val_loss: 5.7781 - val_mae: 2.2882\n",
      "Epoch 9/10\n",
      "\u001b[1m1/1\u001b[0m \u001b[32m━━━━━━━━━━━━━━━━━━━━\u001b[0m\u001b[37m\u001b[0m \u001b[1m3s\u001b[0m 3s/step - loss: 3.7535 - mae: 1.8285 - val_loss: 15.2848 - val_mae: 3.8221\n",
      "Epoch 10/10\n",
      "\u001b[1m1/1\u001b[0m \u001b[32m━━━━━━━━━━━━━━━━━━━━\u001b[0m\u001b[37m\u001b[0m \u001b[1m3s\u001b[0m 3s/step - loss: 11.7173 - mae: 3.3280 - val_loss: 18.9228 - val_mae: 4.2723\n"
     ]
    },
    {
     "data": {
      "text/plain": [
       "<keras.src.callbacks.history.History at 0x290568990d0>"
      ]
     },
     "execution_count": 41,
     "metadata": {},
     "output_type": "execute_result"
    }
   ],
   "source": [
    "# Count prediction head\n",
    "count_predictions = Dense(1, activation='linear')(x)\n",
    "\n",
    "# Create the count prediction model\n",
    "count_model = Model(inputs=base_model.input, outputs=count_predictions)\n",
    "for layer in base_model.layers:\n",
    "    layer.trainable = False\n",
    "\n",
    "# Compile model\n",
    "count_model.compile(optimizer='adam', loss='mean_squared_error', metrics=['mae'])\n",
    "\n",
    "# Train model\n",
    "count_model.fit(X_train, y_train_counts, epochs=EPOCHS, batch_size=BATCH_SIZE, validation_split=0.2)\n"
   ]
  },
  {
   "cell_type": "code",
   "execution_count": 45,
   "id": "1ba04346-5bfb-4acb-9011-27729dac866c",
   "metadata": {},
   "outputs": [],
   "source": [
    "\n",
    "\n",
    "def simulate_ir_image(image):\n",
    "    # Ensure the image is in uint8 format\n",
    "    image_uint8 = (image * 255).astype(np.uint8)\n",
    "    gray = cv2.cvtColor(image_uint8, cv2.COLOR_BGR2GRAY)\n",
    "    blurred = cv2.GaussianBlur(gray, (5, 5), 0)\n",
    "    _, thresh = cv2.threshold(blurred, 100, 255, cv2.THRESH_BINARY + cv2.THRESH_OTSU)\n",
    "    return thresh\n",
    "\n",
    "# Simulate IR data for the dataset\n",
    "ir_images = np.array([simulate_ir_image(img) for img in images])\n",
    "\n"
   ]
  },
  {
   "cell_type": "code",
   "execution_count": 47,
   "id": "8efc3fd7-64e7-4ac4-8321-e00a50691346",
   "metadata": {},
   "outputs": [],
   "source": [
    "# Save simulated IR images\n",
    "IR_IMAGE_DIR = r'C:\\Users\\DELL\\Documents\\smart_vision_project\\IR_basedcount\\ir_data'  \n",
    "if not os.path.exists(IR_IMAGE_DIR):\n",
    "    os.makedirs(IR_IMAGE_DIR)\n",
    "\n",
    "for i, ir_img in enumerate(ir_images):\n",
    "    cv2.imwrite(os.path.join(IR_IMAGE_DIR, f'ir_image_{i}.jpg'), ir_img)\n"
   ]
  },
  {
   "cell_type": "code",
   "execution_count": 49,
   "id": "3c6f264c-962c-487d-a882-283111b8e0b8",
   "metadata": {},
   "outputs": [
    {
     "name": "stdout",
     "output_type": "stream",
     "text": [
      "Brand Recognition Accuracy: 100.00%\n"
     ]
    }
   ],
   "source": [
    "# Evaluate brand recognition model\n",
    "brand_loss, brand_accuracy = brand_model.evaluate(X_test, y_test_brands, verbose=0)\n",
    "print(f'Brand Recognition Accuracy: {brand_accuracy * 100:.2f}%')\n"
   ]
  },
  {
   "cell_type": "code",
   "execution_count": 51,
   "id": "79721c61-f9cc-4853-9bf9-bb663b4b5900",
   "metadata": {},
   "outputs": [
    {
     "name": "stdout",
     "output_type": "stream",
     "text": [
      "Count Prediction MAE: 4.41\n"
     ]
    }
   ],
   "source": [
    "# Evaluate count prediction model\n",
    "count_loss, count_mae = count_model.evaluate(X_test, y_test_counts, verbose=0)\n",
    "print(f'Count Prediction MAE: {count_mae:.2f}')\n"
   ]
  },
  {
   "cell_type": "code",
   "execution_count": 59,
   "id": "d3f794ac-153e-4719-bb87-91a5f11c3ffd",
   "metadata": {},
   "outputs": [
    {
     "name": "stdout",
     "output_type": "stream",
     "text": [
      "\u001b[1m1/1\u001b[0m \u001b[32m━━━━━━━━━━━━━━━━━━━━\u001b[0m\u001b[37m\u001b[0m \u001b[1m0s\u001b[0m 165ms/step\n",
      "\u001b[1m1/1\u001b[0m \u001b[32m━━━━━━━━━━━━━━━━━━━━\u001b[0m\u001b[37m\u001b[0m \u001b[1m0s\u001b[0m 149ms/step\n",
      "Brand: minimalist, Count: 9\n"
     ]
    }
   ],
   "source": [
    "def recognize_and_count(image):\n",
    "    # Preprocess image\n",
    "    image_resized = cv2.resize(image, IMAGE_SIZE)\n",
    "    image_preprocessed = preprocess_input(np.expand_dims(image_resized, axis=0))\n",
    "\n",
    "    # Predict brand\n",
    "    brand_probs = brand_model.predict(image_preprocessed)\n",
    "    brand_idx = np.argmax(brand_probs)\n",
    "    brand = brand_encoder.inverse_transform([brand_idx])[0]\n",
    "\n",
    "    # Predict count\n",
    "    count = count_model.predict(image_preprocessed)[0][0]\n",
    "\n",
    "    return brand, int(count)\n",
    "\n",
    "# Load a new image for testing\n",
    "test_image = cv2.imread(r'C:\\Users\\DELL\\Documents\\smart_vision_project\\IR_basedcount\\image2.jpg')\n",
    "brand, count = recognize_and_count(test_image)\n",
    "\n",
    "print(f'Brand: {brand}, Count: {count}')"
   ]
  },
  {
   "cell_type": "code",
   "execution_count": null,
   "id": "9c5df6fc-e1f3-4d11-a0d8-de474927f745",
   "metadata": {},
   "outputs": [],
   "source": []
  }
 ],
 "metadata": {
  "kernelspec": {
   "display_name": "Python 3 (ipykernel)",
   "language": "python",
   "name": "python3"
  },
  "language_info": {
   "codemirror_mode": {
    "name": "ipython",
    "version": 3
   },
   "file_extension": ".py",
   "mimetype": "text/x-python",
   "name": "python",
   "nbconvert_exporter": "python",
   "pygments_lexer": "ipython3",
   "version": "3.12.4"
  }
 },
 "nbformat": 4,
 "nbformat_minor": 5
}
